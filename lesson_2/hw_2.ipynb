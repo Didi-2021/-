{
 "cells": [
  {
   "cell_type": "code",
   "execution_count": 24,
   "id": "24c0dcfb",
   "metadata": {},
   "outputs": [],
   "source": [
    "import numpy as np\n",
    "from math import factorial"
   ]
  },
  {
   "cell_type": "code",
   "execution_count": 25,
   "id": "9377a452",
   "metadata": {},
   "outputs": [],
   "source": [
    "def combinations(n, k):\n",
    "    return int(factorial(n) / (factorial(k) * factorial(n - k)))"
   ]
  },
  {
   "cell_type": "markdown",
   "id": "d9ad32c0",
   "metadata": {},
   "source": [
    "**1. Вероятность того, что стрелок попадет в мишень, выстрелив один раз, равна 0.8. Стрелок выстрелил 100 раз. Найдите вероятность того, что стрелок попадет в цель ровно 85 раз.**"
   ]
  },
  {
   "cell_type": "code",
   "execution_count": 28,
   "id": "7a2c6f5d",
   "metadata": {},
   "outputs": [
    {
     "name": "stdout",
     "output_type": "stream",
     "text": [
      "Вероятность = 4.81%\n"
     ]
    }
   ],
   "source": [
    "n = 100\n",
    "k = 85\n",
    "p = 0.8\n",
    "\n",
    "res = round(combinations(n, k) * (p ** k) * (1 - p) ** (n - k) * 100, 2)\n",
    "print(f'Вероятность = {res}%')"
   ]
  },
  {
   "cell_type": "markdown",
   "id": "29b92d0c",
   "metadata": {},
   "source": [
    "**2. Вероятность того, что лампочка перегорит в течение первого дня эксплуатации, равна 0.0004. В жилом комплексе после ремонта в один день включили 5000 новых лампочек. Какова вероятность, что ни одна из них не перегорит в первый день?**"
   ]
  },
  {
   "cell_type": "code",
   "execution_count": 15,
   "id": "ff7f3fd5",
   "metadata": {},
   "outputs": [
    {
     "name": "stdout",
     "output_type": "stream",
     "text": [
      "Вероятность = 13.53%\n"
     ]
    }
   ],
   "source": [
    "n = 5000\n",
    "m = 0\n",
    "p = 0.0004\n",
    "lambda_ = n * p\n",
    "\n",
    "res = round((lambda_**m / np.math.factorial(m)) * np.exp(-lambda_) * 100, 2)\n",
    "print(f'Вероятность = {res}%')"
   ]
  },
  {
   "cell_type": "markdown",
   "id": "3bd50d23",
   "metadata": {},
   "source": [
    "**2. Вероятность того, что лампочка перегорит в течение первого дня эксплуатации, равна 0.0004. В жилом комплексе после ремонта в один день включили 5000 новых лампочек. Какова вероятность, что перегорят ровно две?**"
   ]
  },
  {
   "cell_type": "code",
   "execution_count": 16,
   "id": "d49f1621",
   "metadata": {},
   "outputs": [
    {
     "name": "stdout",
     "output_type": "stream",
     "text": [
      "Вероятность = 27.07%\n"
     ]
    }
   ],
   "source": [
    "n = 5000\n",
    "m = 2\n",
    "p = 0.0004\n",
    "lambda_ = n * p\n",
    "\n",
    "res = round((lambda_**m / np.math.factorial(m)) * np.exp(-lambda_) * 100, 2)\n",
    "print(f'Вероятность = {res}%')"
   ]
  },
  {
   "cell_type": "markdown",
   "id": "0ca35679",
   "metadata": {},
   "source": [
    "**3. Монету подбросили 144 раза. Какова вероятность, что орел выпадет ровно 70 раз?**"
   ]
  },
  {
   "cell_type": "code",
   "execution_count": 29,
   "id": "c266b795",
   "metadata": {},
   "outputs": [
    {
     "name": "stdout",
     "output_type": "stream",
     "text": [
      "Вероятность = 6.28%\n"
     ]
    }
   ],
   "source": [
    "n = 144\n",
    "k = 70\n",
    "p = 0.5\n",
    "\n",
    "res = round(combinations(n, k) * (p ** k) * (1 - p) ** (n - k) * 100, 2)\n",
    "print(f'Вероятность = {res}%')"
   ]
  },
  {
   "cell_type": "markdown",
   "id": "9a28992d",
   "metadata": {},
   "source": [
    "**4. В первом ящике находится 10 мячей, из которых 7 - белые. Во втором ящике - 11 мячей, из которых 9 белых. Из каждого ящика вытаскивают случайным образом по два мяча. Какова вероятность того, что все мячи белые?**"
   ]
  },
  {
   "cell_type": "markdown",
   "id": "3097e6a3",
   "metadata": {},
   "source": [
    "Возможные случаи.\n",
    "\n",
    "1ая корзина, 2ая корзина\n",
    "\n",
    "2 белых и 2 белых."
   ]
  },
  {
   "cell_type": "code",
   "execution_count": 39,
   "id": "c2b9263a",
   "metadata": {},
   "outputs": [
    {
     "name": "stdout",
     "output_type": "stream",
     "text": [
      "Вероятность = 30.55%\n"
     ]
    }
   ],
   "source": [
    "m1 = 10 # Всего мячей в 1 корзине\n",
    "n1 = 7\n",
    "k1 = 2\n",
    "m2 = 11 # Всего мячей во 2 корзине\n",
    "n2 = 9\n",
    "k2 = 2\n",
    "\n",
    "p1 = combinations(n1, k1) * combinations(m1 - n1, 0) / combinations(m1, k1)\n",
    "p2 = combinations(n2, k2) * combinations(m2 - n2, 0) / combinations(m2, k2)\n",
    "p = round(p1 * p2 * 100, 2)\n",
    "\n",
    "print(f'Вероятность = {p}%')"
   ]
  },
  {
   "cell_type": "markdown",
   "id": "fa5acb21",
   "metadata": {},
   "source": [
    "**4. В первом ящике находится 10 мячей, из которых 7 - белые. Во втором ящике - 11 мячей, из которых 9 белых. Из каждого ящика вытаскивают случайным образом по два мяча. Какова вероятность того, что ровно два мяча белые?**"
   ]
  },
  {
   "cell_type": "markdown",
   "id": "b9cb595c",
   "metadata": {},
   "source": [
    "Возможные случаи.\n",
    "\n",
    "1ая корзина, 2ая корзина\n",
    "___\n",
    "2 белых и 0 белых.\n",
    "\n",
    "1 белый и 1 белый.\n",
    "\n",
    "0 белых и 2 белых."
   ]
  },
  {
   "cell_type": "code",
   "execution_count": 45,
   "id": "a9a0a0f0",
   "metadata": {},
   "outputs": [
    {
     "name": "stdout",
     "output_type": "stream",
     "text": [
      "Вероятность = 20.48%\n"
     ]
    }
   ],
   "source": [
    "p_2X = combinations(7, 2) * combinations(3, 0) / combinations(10, 2)\n",
    "p_X0 = combinations(9, 0) * combinations(2, 2) / combinations(11, 2)\n",
    "p1 = round(p_2X * p_X0 * 100, 2)\n",
    "\n",
    "p_1X = combinations(7, 1) * combinations(3, 1) / combinations(10, 2)\n",
    "p_X1 = combinations(9, 1) * combinations(2, 1) / combinations(11, 2)\n",
    "p2 = round(p_1X * p_X1 * 100, 2)\n",
    "\n",
    "p_0X = combinations(7, 0) * combinations(3, 2) / combinations(10, 2)\n",
    "p_X2 = combinations(9, 2) * combinations(2, 0) / combinations(11, 2)\n",
    "p3 = round(p_0X * p_X2 * 100, 2)\n",
    "\n",
    "p = p1 + p2 + p3\n",
    "\n",
    "print(f'Вероятность = {p}%')"
   ]
  },
  {
   "cell_type": "markdown",
   "id": "806ff061",
   "metadata": {},
   "source": [
    "**4. В первом ящике находится 10 мячей, из которых 7 - белые. Во втором ящике - 11 мячей, из которых 9 белых. Из каждого ящика вытаскивают случайным образом по два мяча. Какова вероятность того, что хотя бы один мяч белый?**"
   ]
  },
  {
   "cell_type": "code",
   "execution_count": 49,
   "id": "a677a8be",
   "metadata": {},
   "outputs": [
    {
     "name": "stdout",
     "output_type": "stream",
     "text": [
      "Вероятность = 99.88%\n"
     ]
    }
   ],
   "source": [
    "p2 = combinations(7, 0) * combinations(3, 2) / combinations(10, 2)\n",
    "p1 = combinations(9, 0) * combinations(2, 2) / combinations(11, 2)\n",
    "p_ = p1 * p2 # Вероятность того что все мячи не белые\n",
    "\n",
    "p = round((1 - p_) * 100, 2) # Вероятность того что хотя бы 1 мяч белый\n",
    "print(f'Вероятность = {p}%')"
   ]
  },
  {
   "cell_type": "code",
   "execution_count": null,
   "id": "61df7007",
   "metadata": {},
   "outputs": [],
   "source": []
  }
 ],
 "metadata": {
  "kernelspec": {
   "display_name": "Python 3 (ipykernel)",
   "language": "python",
   "name": "python3"
  },
  "language_info": {
   "codemirror_mode": {
    "name": "ipython",
    "version": 3
   },
   "file_extension": ".py",
   "mimetype": "text/x-python",
   "name": "python",
   "nbconvert_exporter": "python",
   "pygments_lexer": "ipython3",
   "version": "3.9.12"
  }
 },
 "nbformat": 4,
 "nbformat_minor": 5
}
