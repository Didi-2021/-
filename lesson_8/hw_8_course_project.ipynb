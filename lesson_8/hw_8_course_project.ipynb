{
 "cells": [
  {
   "cell_type": "markdown",
   "id": "5906e1aa",
   "metadata": {},
   "source": [
    "### Курсовой проект. Дисперсионный анализ."
   ]
  },
  {
   "cell_type": "markdown",
   "id": "d47d64be",
   "metadata": {},
   "source": [
    "Датафрейм взят из сайта https://www.kaggle.com/competitions/house-prices-advanced-regression-techniques"
   ]
  },
  {
   "cell_type": "code",
   "execution_count": 30,
   "id": "fbb18844",
   "metadata": {},
   "outputs": [],
   "source": [
    "import pandas as pd\n",
    "import numpy as np\n",
    "from scipy import stats"
   ]
  },
  {
   "cell_type": "code",
   "execution_count": 31,
   "id": "bd0e972f",
   "metadata": {},
   "outputs": [],
   "source": [
    "df = pd.read_csv('./df_course_project.csv')"
   ]
  },
  {
   "cell_type": "code",
   "execution_count": 32,
   "id": "4ec8a8ab",
   "metadata": {},
   "outputs": [
    {
     "data": {
      "text/html": [
       "<div>\n",
       "<style scoped>\n",
       "    .dataframe tbody tr th:only-of-type {\n",
       "        vertical-align: middle;\n",
       "    }\n",
       "\n",
       "    .dataframe tbody tr th {\n",
       "        vertical-align: top;\n",
       "    }\n",
       "\n",
       "    .dataframe thead th {\n",
       "        text-align: right;\n",
       "    }\n",
       "</style>\n",
       "<table border=\"1\" class=\"dataframe\">\n",
       "  <thead>\n",
       "    <tr style=\"text-align: right;\">\n",
       "      <th></th>\n",
       "      <th>MSZoning</th>\n",
       "      <th>SalePrice</th>\n",
       "    </tr>\n",
       "  </thead>\n",
       "  <tbody>\n",
       "    <tr>\n",
       "      <th>1203</th>\n",
       "      <td>RL</td>\n",
       "      <td>213000</td>\n",
       "    </tr>\n",
       "    <tr>\n",
       "      <th>187</th>\n",
       "      <td>RL</td>\n",
       "      <td>135000</td>\n",
       "    </tr>\n",
       "    <tr>\n",
       "      <th>616</th>\n",
       "      <td>RL</td>\n",
       "      <td>183200</td>\n",
       "    </tr>\n",
       "    <tr>\n",
       "      <th>1002</th>\n",
       "      <td>RL</td>\n",
       "      <td>232000</td>\n",
       "    </tr>\n",
       "    <tr>\n",
       "      <th>886</th>\n",
       "      <td>RL</td>\n",
       "      <td>145000</td>\n",
       "    </tr>\n",
       "  </tbody>\n",
       "</table>\n",
       "</div>"
      ],
      "text/plain": [
       "     MSZoning  SalePrice\n",
       "1203       RL     213000\n",
       "187        RL     135000\n",
       "616        RL     183200\n",
       "1002       RL     232000\n",
       "886        RL     145000"
      ]
     },
     "execution_count": 32,
     "metadata": {},
     "output_type": "execute_result"
    }
   ],
   "source": [
    "df.sample(5)"
   ]
  },
  {
   "cell_type": "markdown",
   "id": "22391235",
   "metadata": {},
   "source": [
    "**MSZoning**: определяет общую классификацию зонирования продажи."
   ]
  },
  {
   "cell_type": "markdown",
   "id": "69f211fa",
   "metadata": {},
   "source": [
    "RL - Жилая Низкая плотность\n",
    "\n",
    "RM - Жилая Средняя плотность\n",
    "\n",
    "C (all) - Коммерческая\n",
    "\n",
    "FV - Плавучая деревня Жилая\n",
    "\n",
    "RH - Жилая Высокая плотность"
   ]
  },
  {
   "cell_type": "markdown",
   "id": "fe2a6c8f",
   "metadata": {},
   "source": [
    "**SalePrice**: Цена продаж."
   ]
  },
  {
   "cell_type": "code",
   "execution_count": 33,
   "id": "da0df0fe",
   "metadata": {},
   "outputs": [
    {
     "data": {
      "text/plain": [
       "array(['RL', 'RM', 'C (all)', 'FV', 'RH'], dtype=object)"
      ]
     },
     "execution_count": 33,
     "metadata": {},
     "output_type": "execute_result"
    }
   ],
   "source": [
    "df['MSZoning'].unique()"
   ]
  },
  {
   "cell_type": "code",
   "execution_count": 34,
   "id": "31df28a4",
   "metadata": {},
   "outputs": [
    {
     "data": {
      "text/plain": [
       "RL         1151\n",
       "RM          218\n",
       "FV           65\n",
       "RH           16\n",
       "C (all)      10\n",
       "Name: MSZoning, dtype: int64"
      ]
     },
     "execution_count": 34,
     "metadata": {},
     "output_type": "execute_result"
    }
   ],
   "source": [
    "df['MSZoning'].value_counts()"
   ]
  },
  {
   "cell_type": "code",
   "execution_count": 35,
   "id": "7ab12b1c",
   "metadata": {},
   "outputs": [
    {
     "data": {
      "text/plain": [
       "5"
      ]
     },
     "execution_count": 35,
     "metadata": {},
     "output_type": "execute_result"
    }
   ],
   "source": [
    "len(df['MSZoning'].unique())"
   ]
  },
  {
   "cell_type": "code",
   "execution_count": 36,
   "id": "85e579fc",
   "metadata": {},
   "outputs": [
    {
     "data": {
      "text/plain": [
       "1460"
      ]
     },
     "execution_count": 36,
     "metadata": {},
     "output_type": "execute_result"
    }
   ],
   "source": [
    "len(df['MSZoning'])"
   ]
  },
  {
   "cell_type": "code",
   "execution_count": 37,
   "id": "6ef0a99c",
   "metadata": {},
   "outputs": [],
   "source": [
    "f_a = df.loc[df['MSZoning'] == 'RL']\n",
    "f_b = df.loc[df['MSZoning'] == 'RM']\n",
    "f_c = df.loc[df['MSZoning'] == 'FV']\n",
    "f_d = df.loc[df['MSZoning'] == 'RH']\n",
    "f_e = df.loc[df['MSZoning'] == 'C (all)']"
   ]
  },
  {
   "cell_type": "code",
   "execution_count": 38,
   "id": "20f972a5",
   "metadata": {},
   "outputs": [],
   "source": [
    "k = 5\n",
    "n = 1460"
   ]
  },
  {
   "cell_type": "code",
   "execution_count": 39,
   "id": "362b2203",
   "metadata": {},
   "outputs": [],
   "source": [
    "# Среднее по каждой выборке\n",
    "a_mean = f_a['SalePrice'].mean()\n",
    "b_mean = f_b['SalePrice'].mean()\n",
    "c_mean = f_c['SalePrice'].mean()\n",
    "d_mean = f_d['SalePrice'].mean()\n",
    "e_mean = f_e['SalePrice'].mean()"
   ]
  },
  {
   "cell_type": "code",
   "execution_count": 40,
   "id": "cfdaf2bf",
   "metadata": {},
   "outputs": [],
   "source": [
    "# Среднее по всей выборке\n",
    "df_mean = df['SalePrice'].mean()"
   ]
  },
  {
   "cell_type": "code",
   "execution_count": 41,
   "id": "8ead651d",
   "metadata": {},
   "outputs": [
    {
     "data": {
      "text/plain": [
       "990400028351.7827"
      ]
     },
     "execution_count": 41,
     "metadata": {},
     "output_type": "execute_result"
    }
   ],
   "source": [
    "# Сумма квадратов отклонений средних групповых значений от общего среднего\n",
    "ss_f = (a_mean - df_mean)**2 * len(f_a) + \\\n",
    "       (b_mean - df_mean)**2 * len(f_b) + \\\n",
    "       (c_mean - df_mean)**2 * len(f_c) + \\\n",
    "       (d_mean - df_mean)**2 * len(f_d) + \\\n",
    "       (e_mean - df_mean)**2 * len(f_e)\n",
    "ss_f"
   ]
  },
  {
   "cell_type": "code",
   "execution_count": 42,
   "id": "20d5a7a8",
   "metadata": {},
   "outputs": [],
   "source": [
    "# Остаточная сумма квадратов отклонений"
   ]
  },
  {
   "cell_type": "code",
   "execution_count": 43,
   "id": "27227c63",
   "metadata": {},
   "outputs": [
    {
     "data": {
      "text/plain": [
       "7501682173621.974"
      ]
     },
     "execution_count": 43,
     "metadata": {},
     "output_type": "execute_result"
    }
   ],
   "source": [
    "ss_r_a = 0\n",
    "for i in (f_a['SalePrice']):\n",
    "    ss_r_a += (i - a_mean)**2\n",
    "ss_r_a"
   ]
  },
  {
   "cell_type": "code",
   "execution_count": 44,
   "id": "c4d8c6d7",
   "metadata": {},
   "outputs": [
    {
     "data": {
      "text/plain": [
       "510894901372.7202"
      ]
     },
     "execution_count": 44,
     "metadata": {},
     "output_type": "execute_result"
    }
   ],
   "source": [
    "ss_r_b = 0\n",
    "for i in (f_b['SalePrice']):\n",
    "    ss_r_b += (i - b_mean)**2\n",
    "ss_r_b"
   ]
  },
  {
   "cell_type": "code",
   "execution_count": 45,
   "id": "ab7205e7",
   "metadata": {},
   "outputs": [
    {
     "data": {
      "text/plain": [
       "175525216323.7538"
      ]
     },
     "execution_count": 45,
     "metadata": {},
     "output_type": "execute_result"
    }
   ],
   "source": [
    "ss_r_c = 0\n",
    "for i in (f_c['SalePrice']):\n",
    "    ss_r_c += (i - c_mean)**2\n",
    "ss_r_c"
   ]
  },
  {
   "cell_type": "code",
   "execution_count": 46,
   "id": "2d8efd38",
   "metadata": {},
   "outputs": [
    {
     "data": {
      "text/plain": [
       "19132473833.75"
      ]
     },
     "execution_count": 46,
     "metadata": {},
     "output_type": "execute_result"
    }
   ],
   "source": [
    "ss_r_d = 0\n",
    "for i in (f_d['SalePrice']):\n",
    "    ss_r_d += (i - d_mean)**2\n",
    "ss_r_d"
   ]
  },
  {
   "cell_type": "code",
   "execution_count": 47,
   "id": "9a7a65ba",
   "metadata": {},
   "outputs": [
    {
     "data": {
      "text/plain": [
       "10276541106.0"
      ]
     },
     "execution_count": 47,
     "metadata": {},
     "output_type": "execute_result"
    }
   ],
   "source": [
    "ss_r_e = 0\n",
    "for i in (f_e['SalePrice']):\n",
    "    ss_r_e += (i - e_mean)**2\n",
    "ss_r_e"
   ]
  },
  {
   "cell_type": "code",
   "execution_count": 19,
   "id": "8e3b87dc",
   "metadata": {},
   "outputs": [
    {
     "data": {
      "text/plain": [
       "8217511306258.197"
      ]
     },
     "execution_count": 19,
     "metadata": {},
     "output_type": "execute_result"
    }
   ],
   "source": [
    "ss_r = ss_r_a + ss_r_b + ss_r_c + ss_r_d + ss_r_e\n",
    "ss_r"
   ]
  },
  {
   "cell_type": "code",
   "execution_count": 20,
   "id": "666a6e47",
   "metadata": {},
   "outputs": [
    {
     "data": {
      "text/plain": [
       "9207911334609.98"
      ]
     },
     "execution_count": 20,
     "metadata": {},
     "output_type": "execute_result"
    }
   ],
   "source": [
    "ss = ss_f + ss_r\n",
    "ss"
   ]
  },
  {
   "cell_type": "code",
   "execution_count": 21,
   "id": "ea983215",
   "metadata": {},
   "outputs": [
    {
     "data": {
      "text/plain": [
       "4"
      ]
     },
     "execution_count": 21,
     "metadata": {},
     "output_type": "execute_result"
    }
   ],
   "source": [
    "d_f1 = k - 1\n",
    "d_f1"
   ]
  },
  {
   "cell_type": "code",
   "execution_count": 22,
   "id": "d7b04119",
   "metadata": {},
   "outputs": [
    {
     "data": {
      "text/plain": [
       "1455"
      ]
     },
     "execution_count": 22,
     "metadata": {},
     "output_type": "execute_result"
    }
   ],
   "source": [
    "d_f2 = n - k\n",
    "d_f2"
   ]
  },
  {
   "cell_type": "code",
   "execution_count": 23,
   "id": "4ef10046",
   "metadata": {},
   "outputs": [
    {
     "data": {
      "text/plain": [
       "247600007087.94568"
      ]
     },
     "execution_count": 23,
     "metadata": {},
     "output_type": "execute_result"
    }
   ],
   "source": [
    "sdt_f = ss_f / d_f1\n",
    "sdt_f"
   ]
  },
  {
   "cell_type": "code",
   "execution_count": 24,
   "id": "df0d1314",
   "metadata": {},
   "outputs": [
    {
     "data": {
      "text/plain": [
       "5647774093.648246"
      ]
     },
     "execution_count": 24,
     "metadata": {},
     "output_type": "execute_result"
    }
   ],
   "source": [
    "sdt_r = ss_r / d_f2\n",
    "sdt_r"
   ]
  },
  {
   "cell_type": "code",
   "execution_count": 25,
   "id": "9090d47f",
   "metadata": {},
   "outputs": [
    {
     "data": {
      "text/plain": [
       "43.84028167245719"
      ]
     },
     "execution_count": 25,
     "metadata": {},
     "output_type": "execute_result"
    }
   ],
   "source": [
    "F_n = sdt_f / sdt_r\n",
    "F_n"
   ]
  },
  {
   "cell_type": "code",
   "execution_count": 26,
   "id": "6df67318",
   "metadata": {},
   "outputs": [
    {
     "data": {
      "text/plain": [
       "2.3780442396567194"
      ]
     },
     "execution_count": 26,
     "metadata": {},
     "output_type": "execute_result"
    }
   ],
   "source": [
    "stats.f.ppf(0.95, d_f1, d_f2)"
   ]
  },
  {
   "cell_type": "markdown",
   "id": "de3ec973",
   "metadata": {},
   "source": [
    "Расчетное значение критерия Фишера = 43,84.\n",
    "\n",
    "Табличное значение критерия Фишера = 2,38.\n",
    "\n",
    "Следовательно, принимаем альтернативную гипотезу. Классификация зонирования продаж **оказывает** статистически значимый эффект на стоимость помещения."
   ]
  },
  {
   "cell_type": "markdown",
   "id": "4c31de18",
   "metadata": {},
   "source": [
    "Проверка с помощью функции."
   ]
  },
  {
   "cell_type": "code",
   "execution_count": 29,
   "id": "c0bd1498",
   "metadata": {},
   "outputs": [
    {
     "data": {
      "text/plain": [
       "F_onewayResult(statistic=43.84028167245718, pvalue=8.817633866272648e-35)"
      ]
     },
     "execution_count": 29,
     "metadata": {},
     "output_type": "execute_result"
    }
   ],
   "source": [
    "stats.f_oneway(f_a['SalePrice'], f_b['SalePrice'], f_c['SalePrice'], \\\n",
    "              f_d['SalePrice'], f_e['SalePrice'])"
   ]
  },
  {
   "cell_type": "markdown",
   "id": "6f75c9fe",
   "metadata": {},
   "source": [
    "### Задача 1.\n",
    "\n",
    "Провести дисперсионный анализ для определения того, есть ли различия среднего роста среди взрослых футболистов, хоккеистов и штангистов. Даны значения роста в трех группах случайно выбранных спортсменов: Футболисты: 173, 175, 180, 178, 177, 185, 183, 182. Хоккеисты: 177, 179, 180, 188, 177, 172, 171, 184, 180. Штангисты: 172, 173, 169, 177, 166, 180, 178, 177, 172, 166, 170. alpha = 0.05."
   ]
  },
  {
   "cell_type": "markdown",
   "id": "ed3e1db6",
   "metadata": {},
   "source": [
    "a - футболисты.\n",
    "\n",
    "b - хоккеисты.\n",
    "\n",
    "c - штангисты."
   ]
  },
  {
   "cell_type": "code",
   "execution_count": 30,
   "id": "b88234f3",
   "metadata": {},
   "outputs": [],
   "source": [
    "a = np.array([173, 175, 180, 178, 177, 185, 183, 182])\n",
    "b = np.array([177, 179, 180, 188, 177, 172, 171, 184, 180])\n",
    "c = np.array([172, 173, 169, 177, 166, 180, 178, 177, 172, 166, 170])"
   ]
  },
  {
   "cell_type": "code",
   "execution_count": 31,
   "id": "c3984dec",
   "metadata": {},
   "outputs": [
    {
     "data": {
      "text/plain": [
       "F_onewayResult(statistic=5.500053450812596, pvalue=0.010482206918698694)"
      ]
     },
     "execution_count": 31,
     "metadata": {},
     "output_type": "execute_result"
    }
   ],
   "source": [
    "stats.f_oneway(a, b, c)"
   ]
  },
  {
   "cell_type": "code",
   "execution_count": 32,
   "id": "8964d7ba",
   "metadata": {},
   "outputs": [],
   "source": [
    "k = 3\n",
    "n = len(a) + len(b) + len(c)"
   ]
  },
  {
   "cell_type": "code",
   "execution_count": 35,
   "id": "19b7b83f",
   "metadata": {},
   "outputs": [],
   "source": [
    "# Среднее по каждой выборке\n",
    "a_mean = a.mean()\n",
    "b_mean = b.mean()\n",
    "c_mean = c.mean()"
   ]
  },
  {
   "cell_type": "code",
   "execution_count": 38,
   "id": "cba255b2",
   "metadata": {},
   "outputs": [
    {
     "data": {
      "text/plain": [
       "176.46428571428572"
      ]
     },
     "execution_count": 38,
     "metadata": {},
     "output_type": "execute_result"
    }
   ],
   "source": [
    "# Среднее по всей выборке\n",
    "y = np.concatenate ((a, b, c), axis=0)\n",
    "y_mean = y.mean()\n",
    "y_mean"
   ]
  },
  {
   "cell_type": "code",
   "execution_count": 39,
   "id": "1e8a72ec",
   "metadata": {},
   "outputs": [
    {
     "data": {
      "text/plain": [
       "253.9074675324678"
      ]
     },
     "execution_count": 39,
     "metadata": {},
     "output_type": "execute_result"
    }
   ],
   "source": [
    "# Сумма квадратов отклонений средних групповых значений от общего среднего\n",
    "ss_f = (a_mean - y_mean)**2 * len(a) + \\\n",
    "       (b_mean - y_mean)**2 * len(b) + \\\n",
    "       (c_mean - y_mean)**2 * len(c)\n",
    "ss_f"
   ]
  },
  {
   "cell_type": "code",
   "execution_count": 41,
   "id": "405c9578",
   "metadata": {},
   "outputs": [],
   "source": [
    "# Остаточная сумма квадратов отклонений"
   ]
  },
  {
   "cell_type": "code",
   "execution_count": 43,
   "id": "a18509f1",
   "metadata": {},
   "outputs": [
    {
     "data": {
      "text/plain": [
       "118.875"
      ]
     },
     "execution_count": 43,
     "metadata": {},
     "output_type": "execute_result"
    }
   ],
   "source": [
    "ss_r_a = 0\n",
    "for i in (a):\n",
    "    ss_r_a += (i - a_mean)**2\n",
    "ss_r_a"
   ]
  },
  {
   "cell_type": "code",
   "execution_count": 44,
   "id": "34bd038a",
   "metadata": {},
   "outputs": [
    {
     "data": {
      "text/plain": [
       "227.99999999999997"
      ]
     },
     "execution_count": 44,
     "metadata": {},
     "output_type": "execute_result"
    }
   ],
   "source": [
    "ss_r_b = 0\n",
    "for i in (b):\n",
    "    ss_r_b += (i - b_mean)**2\n",
    "ss_r_b"
   ]
  },
  {
   "cell_type": "code",
   "execution_count": 45,
   "id": "9b89b4b8",
   "metadata": {},
   "outputs": [
    {
     "data": {
      "text/plain": [
       "230.18181818181816"
      ]
     },
     "execution_count": 45,
     "metadata": {},
     "output_type": "execute_result"
    }
   ],
   "source": [
    "ss_r_c = 0\n",
    "for i in (c):\n",
    "    ss_r_c += (i - c_mean)**2\n",
    "ss_r_c"
   ]
  },
  {
   "cell_type": "code",
   "execution_count": 46,
   "id": "949d3ef1",
   "metadata": {},
   "outputs": [
    {
     "data": {
      "text/plain": [
       "577.0568181818181"
      ]
     },
     "execution_count": 46,
     "metadata": {},
     "output_type": "execute_result"
    }
   ],
   "source": [
    "ss_r = ss_r_a + ss_r_b + ss_r_c\n",
    "ss_r"
   ]
  },
  {
   "cell_type": "code",
   "execution_count": 47,
   "id": "892d9fdf",
   "metadata": {},
   "outputs": [
    {
     "data": {
      "text/plain": [
       "830.9642857142859"
      ]
     },
     "execution_count": 47,
     "metadata": {},
     "output_type": "execute_result"
    }
   ],
   "source": [
    "ss = ss_f + ss_r\n",
    "ss"
   ]
  },
  {
   "cell_type": "code",
   "execution_count": 48,
   "id": "0c96c531",
   "metadata": {},
   "outputs": [
    {
     "data": {
      "text/plain": [
       "2"
      ]
     },
     "execution_count": 48,
     "metadata": {},
     "output_type": "execute_result"
    }
   ],
   "source": [
    "d_f1 = k - 1\n",
    "d_f1"
   ]
  },
  {
   "cell_type": "code",
   "execution_count": 49,
   "id": "73de4615",
   "metadata": {},
   "outputs": [
    {
     "data": {
      "text/plain": [
       "25"
      ]
     },
     "execution_count": 49,
     "metadata": {},
     "output_type": "execute_result"
    }
   ],
   "source": [
    "d_f2 = n - k\n",
    "d_f2"
   ]
  },
  {
   "cell_type": "code",
   "execution_count": 50,
   "id": "856c276c",
   "metadata": {},
   "outputs": [
    {
     "data": {
      "text/plain": [
       "126.9537337662339"
      ]
     },
     "execution_count": 50,
     "metadata": {},
     "output_type": "execute_result"
    }
   ],
   "source": [
    "sdt_f = ss_f / d_f1\n",
    "sdt_f"
   ]
  },
  {
   "cell_type": "code",
   "execution_count": 51,
   "id": "ce05423e",
   "metadata": {},
   "outputs": [
    {
     "data": {
      "text/plain": [
       "23.082272727272724"
      ]
     },
     "execution_count": 51,
     "metadata": {},
     "output_type": "execute_result"
    }
   ],
   "source": [
    "sdt_r = ss_r / d_f2\n",
    "sdt_r"
   ]
  },
  {
   "cell_type": "code",
   "execution_count": 52,
   "id": "c9e2e453",
   "metadata": {},
   "outputs": [
    {
     "data": {
      "text/plain": [
       "5.500053450812599"
      ]
     },
     "execution_count": 52,
     "metadata": {},
     "output_type": "execute_result"
    }
   ],
   "source": [
    "F_n = sdt_f / sdt_r\n",
    "F_n"
   ]
  },
  {
   "cell_type": "code",
   "execution_count": 54,
   "id": "8d2742e6",
   "metadata": {},
   "outputs": [
    {
     "data": {
      "text/plain": [
       "3.3851899614491687"
      ]
     },
     "execution_count": 54,
     "metadata": {},
     "output_type": "execute_result"
    }
   ],
   "source": [
    "stats.f.ppf(0.95, d_f1, d_f2)"
   ]
  },
  {
   "cell_type": "code",
   "execution_count": 53,
   "id": "b9cd83f4",
   "metadata": {},
   "outputs": [
    {
     "data": {
      "text/plain": [
       "F_onewayResult(statistic=5.500053450812596, pvalue=0.010482206918698694)"
      ]
     },
     "execution_count": 53,
     "metadata": {},
     "output_type": "execute_result"
    }
   ],
   "source": [
    "stats.f_oneway(a, b, c)"
   ]
  },
  {
   "cell_type": "markdown",
   "id": "d561655a",
   "metadata": {},
   "source": [
    "Расчетное значение критерия Фишера = 5.5.\n",
    "\n",
    "Табличное значение критерия Фишера = 3.38.\n",
    "\n",
    "Следовательно, принимаем альтернативную гипотезу. То есть **существуют** статистически значимые различия среднего роста среди взрослых футболистов, хоккеистов и штангистов."
   ]
  },
  {
   "cell_type": "code",
   "execution_count": null,
   "id": "fe6a7176",
   "metadata": {},
   "outputs": [],
   "source": []
  }
 ],
 "metadata": {
  "kernelspec": {
   "display_name": "Python 3 (ipykernel)",
   "language": "python",
   "name": "python3"
  },
  "language_info": {
   "codemirror_mode": {
    "name": "ipython",
    "version": 3
   },
   "file_extension": ".py",
   "mimetype": "text/x-python",
   "name": "python",
   "nbconvert_exporter": "python",
   "pygments_lexer": "ipython3",
   "version": "3.9.12"
  }
 },
 "nbformat": 4,
 "nbformat_minor": 5
}
