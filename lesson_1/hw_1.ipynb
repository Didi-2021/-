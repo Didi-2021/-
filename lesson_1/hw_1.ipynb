{
 "cells": [
  {
   "cell_type": "code",
   "execution_count": 54,
   "id": "0e8b12d2",
   "metadata": {},
   "outputs": [],
   "source": [
    "from math import factorial"
   ]
  },
  {
   "cell_type": "code",
   "execution_count": 55,
   "id": "4e804af7",
   "metadata": {},
   "outputs": [],
   "source": [
    "def combinations(n, k):\n",
    "    return int(factorial(n) / (factorial(k) * factorial(n - k)))"
   ]
  },
  {
   "cell_type": "markdown",
   "id": "21332da8",
   "metadata": {},
   "source": [
    "#### 1. a) Из колоды в 52 карты извлекаются случайным образом 4 карты. Найти вероятность того, что все карты – крести."
   ]
  },
  {
   "cell_type": "code",
   "execution_count": 56,
   "id": "190da479",
   "metadata": {},
   "outputs": [
    {
     "data": {
      "text/plain": [
       "715"
      ]
     },
     "execution_count": 56,
     "metadata": {},
     "output_type": "execute_result"
    }
   ],
   "source": [
    "m = combinations(13, 4) * combinations(39, 0)\n",
    "m"
   ]
  },
  {
   "cell_type": "code",
   "execution_count": 57,
   "id": "3b81b11b",
   "metadata": {},
   "outputs": [
    {
     "data": {
      "text/plain": [
       "270725"
      ]
     },
     "execution_count": 57,
     "metadata": {},
     "output_type": "execute_result"
    }
   ],
   "source": [
    "n = combinations(52, 4)\n",
    "n"
   ]
  },
  {
   "cell_type": "code",
   "execution_count": 58,
   "id": "63b2e301",
   "metadata": {},
   "outputs": [
    {
     "name": "stdout",
     "output_type": "stream",
     "text": [
      "Вероятность = 0.26 %\n"
     ]
    }
   ],
   "source": [
    "p = round(m / n * 100, 2)\n",
    "print(f'Вероятность = {p} %')"
   ]
  },
  {
   "cell_type": "markdown",
   "id": "6d76d9ad",
   "metadata": {},
   "source": [
    "#### 1. б) Из колоды в 52 карты извлекаются случайным образом 4 карты. Найти вероятность, что среди 4-х карт окажется хотя бы один туз."
   ]
  },
  {
   "cell_type": "code",
   "execution_count": 59,
   "id": "cb765c06",
   "metadata": {},
   "outputs": [],
   "source": [
    "m1 = combinations(4, 1) * combinations(48, 3)"
   ]
  },
  {
   "cell_type": "code",
   "execution_count": 60,
   "id": "b3980fd0",
   "metadata": {},
   "outputs": [],
   "source": [
    "m2 = combinations(4, 2) * combinations(48, 2)"
   ]
  },
  {
   "cell_type": "code",
   "execution_count": 61,
   "id": "26b08b36",
   "metadata": {},
   "outputs": [],
   "source": [
    "m3 = combinations(4, 3) * combinations(48, 1)"
   ]
  },
  {
   "cell_type": "code",
   "execution_count": 62,
   "id": "1db7fda7",
   "metadata": {},
   "outputs": [],
   "source": [
    "m4 = combinations(4, 4) * combinations(48, 0)"
   ]
  },
  {
   "cell_type": "code",
   "execution_count": 63,
   "id": "d336063d",
   "metadata": {},
   "outputs": [
    {
     "data": {
      "text/plain": [
       "76145"
      ]
     },
     "execution_count": 63,
     "metadata": {},
     "output_type": "execute_result"
    }
   ],
   "source": [
    "m = m1 + m2 + m3 + m4\n",
    "m"
   ]
  },
  {
   "cell_type": "code",
   "execution_count": 64,
   "id": "4fba3356",
   "metadata": {},
   "outputs": [
    {
     "data": {
      "text/plain": [
       "270725"
      ]
     },
     "execution_count": 64,
     "metadata": {},
     "output_type": "execute_result"
    }
   ],
   "source": [
    "n = combinations(52, 4)\n",
    "n"
   ]
  },
  {
   "cell_type": "code",
   "execution_count": 65,
   "id": "aafbe3de",
   "metadata": {},
   "outputs": [
    {
     "name": "stdout",
     "output_type": "stream",
     "text": [
      "Вероятность = 28.13 %\n"
     ]
    }
   ],
   "source": [
    "p = round(m / n * 100, 2)\n",
    "print(f'Вероятность = {p} %')"
   ]
  },
  {
   "cell_type": "markdown",
   "id": "e14a51dd",
   "metadata": {},
   "source": [
    "#### 2. На входной двери подъезда установлен кодовый замок, содержащий десять кнопок с цифрами от 0 до 9. Код содержит три цифры, которые нужно нажать одновременно. Какова вероятность того, что человек, не знающий код, откроет дверь с первой попытки?"
   ]
  },
  {
   "cell_type": "code",
   "execution_count": 66,
   "id": "34a43623",
   "metadata": {},
   "outputs": [
    {
     "data": {
      "text/plain": [
       "1"
      ]
     },
     "execution_count": 66,
     "metadata": {},
     "output_type": "execute_result"
    }
   ],
   "source": [
    "m = combinations(3, 3)\n",
    "m"
   ]
  },
  {
   "cell_type": "code",
   "execution_count": 67,
   "id": "92ad460e",
   "metadata": {},
   "outputs": [
    {
     "data": {
      "text/plain": [
       "120"
      ]
     },
     "execution_count": 67,
     "metadata": {},
     "output_type": "execute_result"
    }
   ],
   "source": [
    "n = combinations(10, 3)\n",
    "n"
   ]
  },
  {
   "cell_type": "code",
   "execution_count": 68,
   "id": "d4210f96",
   "metadata": {},
   "outputs": [
    {
     "name": "stdout",
     "output_type": "stream",
     "text": [
      "Вероятность = 0.83 %\n"
     ]
    }
   ],
   "source": [
    "p = round(m / n * 100, 2)\n",
    "print(f'Вероятность = {p} %')"
   ]
  },
  {
   "cell_type": "markdown",
   "id": "93d52578",
   "metadata": {},
   "source": [
    "#### 3. В ящике имеется 15 деталей, из которых 9 окрашены. Рабочий случайным образом извлекает 3 детали. Какова вероятность того, что все извлеченные детали окрашены?"
   ]
  },
  {
   "cell_type": "code",
   "execution_count": 69,
   "id": "e6d79bb9",
   "metadata": {},
   "outputs": [
    {
     "data": {
      "text/plain": [
       "84"
      ]
     },
     "execution_count": 69,
     "metadata": {},
     "output_type": "execute_result"
    }
   ],
   "source": [
    "m = combinations(9, 3) * combinations(6, 0)\n",
    "m"
   ]
  },
  {
   "cell_type": "code",
   "execution_count": 70,
   "id": "1728f925",
   "metadata": {},
   "outputs": [
    {
     "data": {
      "text/plain": [
       "455"
      ]
     },
     "execution_count": 70,
     "metadata": {},
     "output_type": "execute_result"
    }
   ],
   "source": [
    "n = combinations(15, 3)\n",
    "n"
   ]
  },
  {
   "cell_type": "code",
   "execution_count": 71,
   "id": "9f13c6af",
   "metadata": {},
   "outputs": [
    {
     "name": "stdout",
     "output_type": "stream",
     "text": [
      "Вероятность = 18.46 %\n"
     ]
    }
   ],
   "source": [
    "p = round(m / n * 100, 2)\n",
    "print(f'Вероятность = {p} %')"
   ]
  },
  {
   "cell_type": "markdown",
   "id": "db0e6c84",
   "metadata": {},
   "source": [
    "#### 4. В лотерее 100 билетов. Из них 2 выигрышных. Какова вероятность того, что 2 приобретенных билета окажутся выигрышными?"
   ]
  },
  {
   "cell_type": "code",
   "execution_count": 72,
   "id": "6d805296",
   "metadata": {},
   "outputs": [
    {
     "data": {
      "text/plain": [
       "1"
      ]
     },
     "execution_count": 72,
     "metadata": {},
     "output_type": "execute_result"
    }
   ],
   "source": [
    "m = combinations(2, 2) * combinations(98, 0)\n",
    "m"
   ]
  },
  {
   "cell_type": "code",
   "execution_count": 73,
   "id": "1ad5bfd9",
   "metadata": {},
   "outputs": [
    {
     "data": {
      "text/plain": [
       "4950"
      ]
     },
     "execution_count": 73,
     "metadata": {},
     "output_type": "execute_result"
    }
   ],
   "source": [
    "n = combinations(100, 2)\n",
    "n"
   ]
  },
  {
   "cell_type": "code",
   "execution_count": 74,
   "id": "4774ea11",
   "metadata": {},
   "outputs": [
    {
     "name": "stdout",
     "output_type": "stream",
     "text": [
      "Вероятность = 0.02 %\n"
     ]
    }
   ],
   "source": [
    "p = round(m / n * 100, 2)\n",
    "print(f'Вероятность = {p} %')"
   ]
  },
  {
   "cell_type": "code",
   "execution_count": null,
   "id": "05cfd6e6",
   "metadata": {},
   "outputs": [],
   "source": []
  }
 ],
 "metadata": {
  "kernelspec": {
   "display_name": "Python 3 (ipykernel)",
   "language": "python",
   "name": "python3"
  },
  "language_info": {
   "codemirror_mode": {
    "name": "ipython",
    "version": 3
   },
   "file_extension": ".py",
   "mimetype": "text/x-python",
   "name": "python",
   "nbconvert_exporter": "python",
   "pygments_lexer": "ipython3",
   "version": "3.9.12"
  }
 },
 "nbformat": 4,
 "nbformat_minor": 5
}
