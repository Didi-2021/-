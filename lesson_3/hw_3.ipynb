{
 "cells": [
  {
   "cell_type": "code",
   "execution_count": 16,
   "id": "f681fb3c",
   "metadata": {},
   "outputs": [],
   "source": [
    "import numpy as np\n",
    "from math import factorial"
   ]
  },
  {
   "cell_type": "code",
   "execution_count": 3,
   "id": "ad0cb1fc",
   "metadata": {},
   "outputs": [],
   "source": [
    "def combinations(n, k):\n",
    "    return int(factorial(n) / (factorial(k) * factorial(n - k)))"
   ]
  },
  {
   "cell_type": "markdown",
   "id": "d9ad32c0",
   "metadata": {},
   "source": [
    "**1. Даны значения зарплат из выборки выпускников: 100, 80, 75, 77, 89, 33, 45, 25, 65, 17, 30, 24, 57, 55, 70, 75, 65, 84, 90, 150. Посчитать (желательно без использования статистических методов наподобие std, var, mean) среднее арифметическое, среднее квадратичное отклонение, смещенную и несмещенную оценки дисперсий для данной выборки.**"
   ]
  },
  {
   "cell_type": "code",
   "execution_count": 7,
   "id": "7a2c6f5d",
   "metadata": {},
   "outputs": [],
   "source": [
    "X = [100, 80, 75, 77, 89, 33, 45, 25, 65, 17, 30, 24, 57, 55, 70, 75, 65, 84, 90, 150]"
   ]
  },
  {
   "cell_type": "code",
   "execution_count": 18,
   "id": "a619f24a",
   "metadata": {},
   "outputs": [
    {
     "name": "stdout",
     "output_type": "stream",
     "text": [
      "Среднее = 65.3\n"
     ]
    }
   ],
   "source": [
    "mean_x = 0\n",
    "s = 0\n",
    "\n",
    "for i in X:\n",
    "    s += i\n",
    "\n",
    "mean_x = s / len(X)\n",
    "print(f'Среднее = {mean_x}')"
   ]
  },
  {
   "cell_type": "code",
   "execution_count": 21,
   "id": "6d0cead5",
   "metadata": {},
   "outputs": [
    {
     "name": "stdout",
     "output_type": "stream",
     "text": [
      "СКО = 30.823854398825596\n"
     ]
    }
   ],
   "source": [
    "std_x = 0\n",
    "s = 0\n",
    "\n",
    "for i in X:\n",
    "    s += (i - mean_x)**2\n",
    "\n",
    "std_x = (s / len(X))**0.5\n",
    "print(f'СКО = {std_x}')"
   ]
  },
  {
   "cell_type": "code",
   "execution_count": 22,
   "id": "e5867582",
   "metadata": {},
   "outputs": [
    {
     "name": "stdout",
     "output_type": "stream",
     "text": [
      "Смещенная дисперсия = 950.11\n"
     ]
    }
   ],
   "source": [
    "# Смещенная дисперсия\n",
    "var_x = 0\n",
    "s = 0\n",
    "\n",
    "for i in X:\n",
    "    s += (i - mean_x)**2\n",
    "\n",
    "var_x = s / len(X)\n",
    "print(f'Смещенная дисперсия = {var_x}')"
   ]
  },
  {
   "cell_type": "code",
   "execution_count": 24,
   "id": "81977fb4",
   "metadata": {},
   "outputs": [
    {
     "name": "stdout",
     "output_type": "stream",
     "text": [
      "Несмещенная дисперсия = 1000.1157894736842\n"
     ]
    }
   ],
   "source": [
    "# Несмещенная дисперсия\n",
    "var_x = 0\n",
    "s = 0\n",
    "\n",
    "for i in X:\n",
    "    s += (i - mean_x)**2\n",
    "\n",
    "var_x = s / (len(X) - 1)\n",
    "print(f'Несмещенная дисперсия = {var_x}')"
   ]
  },
  {
   "cell_type": "markdown",
   "id": "f2f18360",
   "metadata": {},
   "source": [
    "**2. В первом ящике находится 8 мячей, из которых 5 - белые. Во втором ящике - 12 мячей, из которых 5 белых. Из первого ящика вытаскивают случайным образом два мяча, из второго - 4. Какова вероятность того, что 3 мяча белые?**"
   ]
  },
  {
   "cell_type": "markdown",
   "id": "6a8c5b82",
   "metadata": {},
   "source": [
    "Возможные случаи (белый, не белый):\n",
    "\n",
    "1 ящик, 2 ящик\n",
    "\n",
    "0б,2н и 3б,1н.\n",
    "\n",
    "1б,1н и 2б,2н.\n",
    "\n",
    "2б,0н и 1б,3н."
   ]
  },
  {
   "cell_type": "code",
   "execution_count": 27,
   "id": "6216cd53",
   "metadata": {},
   "outputs": [
    {
     "name": "stdout",
     "output_type": "stream",
     "text": [
      "Вероятность = 36.87%\n"
     ]
    }
   ],
   "source": [
    "p11 = combinations(5, 0) * combinations(3, 2) / combinations(8, 2)\n",
    "p12 = combinations(5, 3) * combinations(7, 1) / combinations(12, 4)\n",
    "p1 = p11 * p12\n",
    "\n",
    "p21 = combinations(5, 1) * combinations(3, 1) / combinations(8, 2)\n",
    "p22 = combinations(5, 2) * combinations(7, 2) / combinations(12, 4)\n",
    "p2 = p21 * p22\n",
    "\n",
    "p31 = combinations(5, 2) * combinations(3, 0) / combinations(8, 2)\n",
    "p32 = combinations(5, 1) * combinations(7, 3) / combinations(12, 4)\n",
    "p3 = p31 * p32\n",
    "\n",
    "p = round((p1 + p2 + p3) * 100, 2)\n",
    "\n",
    "print(f'Вероятность = {p}%')"
   ]
  },
  {
   "cell_type": "markdown",
   "id": "e18c2437",
   "metadata": {},
   "source": [
    "**3. На соревновании по биатлону один из трех спортсменов стреляет и попадает в мишень. Вероятность попадания для первого спортсмена равна 0.9, для второго — 0.8, для третьего — 0.6. Найти вероятность того, что выстрел произведен: a). первым спортсменом б). вторым спортсменом в). третьим спортсменом.**"
   ]
  },
  {
   "cell_type": "code",
   "execution_count": 34,
   "id": "2dab269b",
   "metadata": {},
   "outputs": [
    {
     "name": "stdout",
     "output_type": "stream",
     "text": [
      "Вероятность попадания 1 спортсменом = 39.13%\n",
      "Вероятность попадания 2 спортсменом = 34.78%\n",
      "Вероятность попадания 3 спортсменом = 26.09%\n"
     ]
    }
   ],
   "source": [
    "s_man1 = 0.9\n",
    "s_man2 = 0.8\n",
    "s_man3 = 0.6\n",
    "\n",
    "p = 1 / 3 * s_man1 + 1 / 3 * s_man2 + 1 / 3 * s_man3\n",
    "\n",
    "p1 = round(s_man1 * 1 / 3 /p * 100, 2)\n",
    "p2 = round(s_man2 * 1 / 3 /p * 100, 2)\n",
    "p3 = round(s_man3 * 1 / 3 /p * 100, 2)\n",
    "\n",
    "print(f'Вероятность попадания 1 спортсменом = {p1}%')\n",
    "print(f'Вероятность попадания 2 спортсменом = {p2}%')\n",
    "print(f'Вероятность попадания 3 спортсменом = {p3}%')"
   ]
  },
  {
   "cell_type": "markdown",
   "id": "ca856ed1",
   "metadata": {},
   "source": [
    "**4. В университет на факультеты A и B поступило равное количество студентов, а на факультет C студентов поступило столько же, сколько на A и B вместе. Вероятность того, что студент факультета A сдаст первую сессию, равна 0.8. Для студента факультета B эта вероятность равна 0.7, а для студента факультета C - 0.9. Студент сдал первую сессию. Какова вероятность, что он учится: a). на факультете A б). на факультете B в). на факультете C?**"
   ]
  },
  {
   "cell_type": "code",
   "execution_count": 36,
   "id": "ecb092be",
   "metadata": {},
   "outputs": [
    {
     "name": "stdout",
     "output_type": "stream",
     "text": [
      "Студент с факультета А с вероятностью = 24.24%\n",
      "Студент с факультета B с вероятностью = 21.21%\n",
      "Студент с факультета C с вероятностью = 54.55%\n"
     ]
    }
   ],
   "source": [
    "fA = 0.8\n",
    "fB = 0.7\n",
    "fC = 0.9\n",
    "\n",
    "p = 1 / 4 * fA + 1 / 4 * fB + 1 / 2 * fC\n",
    "\n",
    "p1 = round(fA * 1 / 4 /p * 100, 2)\n",
    "p2 = round(fB * 1 / 4 /p * 100, 2)\n",
    "p3 = round(fC * 1 / 2 /p * 100, 2)\n",
    "\n",
    "print(f'Студент с факультета А с вероятностью = {p1}%')\n",
    "print(f'Студент с факультета B с вероятностью = {p2}%')\n",
    "print(f'Студент с факультета C с вероятностью = {p3}%')"
   ]
  },
  {
   "cell_type": "markdown",
   "id": "4cea8c03",
   "metadata": {},
   "source": [
    "**5. Устройство состоит из трех деталей. Для первой детали вероятность выйти из строя в первый месяц равна 0.1, для второй - 0.2, для третьей - 0.25. Какова вероятность того, что в первый месяц выйдут из строя: а). все детали б). только две детали в). хотя бы одна деталь г). от одной до двух деталей?**"
   ]
  },
  {
   "cell_type": "markdown",
   "id": "f79cd42c",
   "metadata": {},
   "source": [
    "Возможные случаи:\n",
    "\n",
    "xxx\n",
    "\n",
    "xxo, xox, oxx\n",
    "\n",
    "1 - p(ooo)\n",
    "\n",
    "1 - p(ooo) - p(xxx)"
   ]
  },
  {
   "cell_type": "code",
   "execution_count": 39,
   "id": "bb1b5aab",
   "metadata": {},
   "outputs": [
    {
     "name": "stdout",
     "output_type": "stream",
     "text": [
      "Вероятность того, что выйдут из строя все детали = 0.5%\n"
     ]
    }
   ],
   "source": [
    "p1 = round(0.1 * 0.2 * 0.25 * 100, 2)\n",
    "print(f'Вероятность того, что выйдут из строя все детали = {p1}%')"
   ]
  },
  {
   "cell_type": "code",
   "execution_count": 41,
   "id": "ffa0665c",
   "metadata": {},
   "outputs": [
    {
     "name": "stdout",
     "output_type": "stream",
     "text": [
      "Вероятность того, что выйдут из строя 2 детали = 8.0%\n"
     ]
    }
   ],
   "source": [
    "p21 = 0.1 * 0.2 * 0.75\n",
    "p22 = 0.1 * 0.8 * 0.25\n",
    "p23 = 0.9 * 0.2 * 0.25\n",
    "p2 = round((p21 + p22 + p23) * 100, 2)\n",
    "print(f'Вероятность того, что выйдут из строя 2 детали = {p2}%')"
   ]
  },
  {
   "cell_type": "code",
   "execution_count": 42,
   "id": "f5f8cfd8",
   "metadata": {},
   "outputs": [
    {
     "name": "stdout",
     "output_type": "stream",
     "text": [
      "Вероятность того, что выйдет из строя хотя бы 1 деталь = 46.0%\n"
     ]
    }
   ],
   "source": [
    "p3 = round((1 - 0.9 * 0.8 * 0.75) * 100, 2)\n",
    "print(f'Вероятность того, что выйдет из строя хотя бы 1 деталь = {p3}%')"
   ]
  },
  {
   "cell_type": "code",
   "execution_count": 44,
   "id": "0b4f0a41",
   "metadata": {},
   "outputs": [
    {
     "name": "stdout",
     "output_type": "stream",
     "text": [
      "Вероятность того, что выйдет из строя 1 или 2 детали = 45.5%\n"
     ]
    }
   ],
   "source": [
    "p4 = round((1 - 0.9 * 0.8 * 0.75 - 0.1 * 0.2 * 0.25) * 100, 2)\n",
    "print(f'Вероятность того, что выйдет из строя 1 или 2 детали = {p4}%')"
   ]
  },
  {
   "cell_type": "code",
   "execution_count": null,
   "id": "9acda808",
   "metadata": {},
   "outputs": [],
   "source": []
  }
 ],
 "metadata": {
  "kernelspec": {
   "display_name": "Python 3 (ipykernel)",
   "language": "python",
   "name": "python3"
  },
  "language_info": {
   "codemirror_mode": {
    "name": "ipython",
    "version": 3
   },
   "file_extension": ".py",
   "mimetype": "text/x-python",
   "name": "python",
   "nbconvert_exporter": "python",
   "pygments_lexer": "ipython3",
   "version": "3.9.12"
  }
 },
 "nbformat": 4,
 "nbformat_minor": 5
}
